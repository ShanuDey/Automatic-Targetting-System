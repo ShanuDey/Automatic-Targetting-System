{
 "cells": [
  {
   "cell_type": "markdown",
   "metadata": {},
   "source": [
    "## DarkFlow - Using YOLO in Python"
   ]
  },
  {
   "cell_type": "markdown",
   "metadata": {},
   "source": [
    "### Loading our YOLO model"
   ]
  },
  {
   "cell_type": "code",
   "execution_count": 1,
   "metadata": {},
   "outputs": [
    {
     "name": "stdout",
     "output_type": "stream",
     "text": [
      "Device mapping:\n",
      "/job:localhost/replica:0/task:0/device:XLA_CPU:0 -> device: XLA_CPU device\n",
      "/job:localhost/replica:0/task:0/device:GPU:0 -> device: 0, name: GeForce GTX 1650, pci bus id: 0000:01:00.0, compute capability: 7.5\n",
      "/job:localhost/replica:0/task:0/device:XLA_GPU:0 -> device: XLA_GPU device\n",
      "\n",
      "Parsing ./cfg/yolo.cfg\n",
      "Loading ./weights/yolov2.weights ...\n",
      "Successfully identified 203934260 bytes\n",
      "Finished in 0.027956008911132812s\n",
      "Model has a coco model name, loading coco labels.\n",
      "\n",
      "Building net ...\n",
      "Source | Train? | Layer description                | Output size\n",
      "-------+--------+----------------------------------+---------------\n",
      "WARNING:tensorflow:From /home/shanu/anaconda3/envs/yolo/lib/python3.7/site-packages/tensorflow_core/python/ops/resource_variable_ops.py:1630: calling BaseResourceVariable.__init__ (from tensorflow.python.ops.resource_variable_ops) with constraint is deprecated and will be removed in a future version.\n",
      "Instructions for updating:\n",
      "If using Keras pass *_constraint arguments to layers.\n",
      "       |        | input                            | (None, 608, 608, 3)\n",
      " Load  |  Yep!  | conv 3x3p1_1  +bnorm  leaky      | (None, 608, 608, 32)\n",
      " Load  |  Yep!  | maxp 2x2p0_2                     | (None, 304, 304, 32)\n",
      " Load  |  Yep!  | conv 3x3p1_1  +bnorm  leaky      | (None, 304, 304, 64)\n",
      " Load  |  Yep!  | maxp 2x2p0_2                     | (None, 152, 152, 64)\n",
      " Load  |  Yep!  | conv 3x3p1_1  +bnorm  leaky      | (None, 152, 152, 128)\n"
     ]
    },
    {
     "name": "stderr",
     "output_type": "stream",
     "text": [
      "/home/shanu/Documents/yolo/darkflowTest/darkflow_v2/darkflow/dark/darknet.py:54: UserWarning: ./cfg/yolov2.cfg not found, use ./cfg/yolo.cfg instead\n",
      "  cfg_path, FLAGS.model))\n"
     ]
    },
    {
     "name": "stdout",
     "output_type": "stream",
     "text": [
      " Load  |  Yep!  | conv 1x1p0_1  +bnorm  leaky      | (None, 152, 152, 64)\n",
      " Load  |  Yep!  | conv 3x3p1_1  +bnorm  leaky      | (None, 152, 152, 128)\n",
      " Load  |  Yep!  | maxp 2x2p0_2                     | (None, 76, 76, 128)\n",
      " Load  |  Yep!  | conv 3x3p1_1  +bnorm  leaky      | (None, 76, 76, 256)\n",
      " Load  |  Yep!  | conv 1x1p0_1  +bnorm  leaky      | (None, 76, 76, 128)\n",
      " Load  |  Yep!  | conv 3x3p1_1  +bnorm  leaky      | (None, 76, 76, 256)\n",
      " Load  |  Yep!  | maxp 2x2p0_2                     | (None, 38, 38, 256)\n",
      " Load  |  Yep!  | conv 3x3p1_1  +bnorm  leaky      | (None, 38, 38, 512)\n",
      " Load  |  Yep!  | conv 1x1p0_1  +bnorm  leaky      | (None, 38, 38, 256)\n",
      " Load  |  Yep!  | conv 3x3p1_1  +bnorm  leaky      | (None, 38, 38, 512)\n",
      " Load  |  Yep!  | conv 1x1p0_1  +bnorm  leaky      | (None, 38, 38, 256)\n",
      " Load  |  Yep!  | conv 3x3p1_1  +bnorm  leaky      | (None, 38, 38, 512)\n",
      " Load  |  Yep!  | maxp 2x2p0_2                     | (None, 19, 19, 512)\n",
      " Load  |  Yep!  | conv 3x3p1_1  +bnorm  leaky      | (None, 19, 19, 1024)\n",
      " Load  |  Yep!  | conv 1x1p0_1  +bnorm  leaky      | (None, 19, 19, 512)\n",
      " Load  |  Yep!  | conv 3x3p1_1  +bnorm  leaky      | (None, 19, 19, 1024)\n",
      " Load  |  Yep!  | conv 1x1p0_1  +bnorm  leaky      | (None, 19, 19, 512)\n",
      " Load  |  Yep!  | conv 3x3p1_1  +bnorm  leaky      | (None, 19, 19, 1024)\n",
      " Load  |  Yep!  | conv 3x3p1_1  +bnorm  leaky      | (None, 19, 19, 1024)\n",
      " Load  |  Yep!  | conv 3x3p1_1  +bnorm  leaky      | (None, 19, 19, 1024)\n",
      " Load  |  Yep!  | concat [16]                      | (None, 38, 38, 512)\n",
      " Load  |  Yep!  | conv 1x1p0_1  +bnorm  leaky      | (None, 38, 38, 64)\n",
      " Load  |  Yep!  | local flatten 2x2                | (None, 19, 19, 256)\n",
      " Load  |  Yep!  | concat [27, 24]                  | (None, 19, 19, 1280)\n",
      " Load  |  Yep!  | conv 3x3p1_1  +bnorm  leaky      | (None, 19, 19, 1024)\n",
      " Load  |  Yep!  | conv 1x1p0_1    linear           | (None, 19, 19, 425)\n",
      "-------+--------+----------------------------------+---------------\n",
      "GPU mode with 0.5 usage\n",
      "Finished in 6.999005317687988s\n",
      "\n"
     ]
    }
   ],
   "source": [
    "from darkflow.net.build import TFNet\n",
    "import cv2\n",
    "import tensorflow as tf\n",
    "\n",
    "# Config TF, set True if using GPU\n",
    "config = tf.compat.v1.ConfigProto(log_device_placement = True)\n",
    "config.gpu_options.allow_growth = True \n",
    "\n",
    "with tf.compat.v1.Session(config=config) as sess:\n",
    "    options = {\n",
    "            'model': './cfg/yolo.cfg',\n",
    "            'load': './weights/yolov2.weights',\n",
    "            'threshold': 0.6,\n",
    "            'gpu': 0.5 # uncomment these if using GPU\n",
    "               }\n",
    "    tfnet = TFNet(options)    "
   ]
  },
  {
   "cell_type": "markdown",
   "metadata": {},
   "source": [
    "### Load our image and convert from BGR to RBG"
   ]
  },
  {
   "cell_type": "code",
   "execution_count": 2,
   "metadata": {
    "scrolled": false
   },
   "outputs": [
    {
     "name": "stdout",
     "output_type": "stream",
     "text": [
      "[{'label': 'bicycle', 'confidence': 0.80530286, 'topleft': {'x': 84, 'y': 115}, 'bottomright': {'x': 551, 'y': 463}}, {'label': 'truck', 'confidence': 0.82142764, 'topleft': {'x': 461, 'y': 82}, 'bottomright': {'x': 698, 'y': 168}}, {'label': 'dog', 'confidence': 0.8229172, 'topleft': {'x': 130, 'y': 215}, 'bottomright': {'x': 326, 'y': 535}}]\n"
     ]
    }
   ],
   "source": [
    "img = cv2.imread('./sample_img/sample_dog.jpg')\n",
    "img = cv2.cvtColor(img, cv2.COLOR_BGR2RGB)\n",
    "results = tfnet.return_predict(img)\n",
    "print(results)"
   ]
  },
  {
   "cell_type": "markdown",
   "metadata": {},
   "source": [
    "### Display our results using OpenCV"
   ]
  },
  {
   "cell_type": "code",
   "execution_count": 3,
   "metadata": {},
   "outputs": [],
   "source": [
    "img = cv2.imread('./sample_img/sample_dog.jpg')\n",
    "for (i, result) in enumerate(results):\n",
    "    x = result['topleft']['x']\n",
    "    w = result['bottomright']['x']-result['topleft']['x']\n",
    "    y = result['topleft']['y']\n",
    "    h = result['bottomright']['y']-result['topleft']['y']\n",
    "    cv2.rectangle(img,(x,y),(x+w,y+h),(0,255,0),2)\n",
    "    label_position = (x + int(w/2)), abs(y - 10)\n",
    "    cv2.putText(img, result['label'], label_position , cv2.FONT_HERSHEY_SIMPLEX,0.5, (255,255,255), 2)\n",
    "\n",
    "cv2.imshow(\"Objet Detection YOLO\", img)\n",
    "cv2.waitKey(0)\n",
    "cv2.destroyAllWindows()"
   ]
  },
  {
   "cell_type": "markdown",
   "metadata": {},
   "source": [
    "### Let's just encapsulate that OpenCV display method into a function"
   ]
  },
  {
   "cell_type": "code",
   "execution_count": 4,
   "metadata": {},
   "outputs": [],
   "source": [
    "def displayResults(results, img):\n",
    "    for (i, result) in enumerate(results):\n",
    "        x = result['topleft']['x']\n",
    "        w = result['bottomright']['x']-result['topleft']['x']\n",
    "        y = result['topleft']['y']\n",
    "        h = result['bottomright']['y']-result['topleft']['y']\n",
    "        cv2.rectangle(img,(x,y),(x+w,y+h),(0,255,0),2)\n",
    "        label_position = (x + int(w/2)), abs(y - 10)\n",
    "        cv2.putText(img, result['label'], label_position , cv2.FONT_HERSHEY_SIMPLEX,0.5, (255,255,255), 2)\n",
    "    return img"
   ]
  },
  {
   "cell_type": "markdown",
   "metadata": {},
   "source": [
    "### Running YOLO on a webcam"
   ]
  },
  {
   "cell_type": "code",
   "execution_count": 5,
   "metadata": {},
   "outputs": [
    {
     "name": "stdout",
     "output_type": "stream",
     "text": [
      "Device mapping:\n",
      "/job:localhost/replica:0/task:0/device:XLA_CPU:0 -> device: XLA_CPU device\n",
      "/job:localhost/replica:0/task:0/device:GPU:0 -> device: 0, name: GeForce GTX 1650, pci bus id: 0000:01:00.0, compute capability: 7.5\n",
      "/job:localhost/replica:0/task:0/device:XLA_GPU:0 -> device: XLA_GPU device\n",
      "\n",
      "Parsing ./cfg/yolo.cfg\n",
      "Loading ./weights/yolov2.weights ...\n",
      "Successfully identified 203934260 bytes\n",
      "Finished in 0.01029515266418457s\n",
      "Model has a coco model name, loading coco labels.\n",
      "\n",
      "Building net ...\n",
      "Source | Train? | Layer description                | Output size\n",
      "-------+--------+----------------------------------+---------------\n",
      "       |        | input                            | (None, 608, 608, 3)\n",
      " Load  |  Yep!  | conv 3x3p1_1  +bnorm  leaky      | (None, 608, 608, 32)\n",
      " Load  |  Yep!  | maxp 2x2p0_2                     | (None, 304, 304, 32)\n",
      " Load  |  Yep!  | conv 3x3p1_1  +bnorm  leaky      | (None, 304, 304, 64)\n",
      " Load  |  Yep!  | maxp 2x2p0_2                     | (None, 152, 152, 64)\n",
      " Load  |  Yep!  | conv 3x3p1_1  +bnorm  leaky      | (None, 152, 152, 128)\n",
      " Load  |  Yep!  | conv 1x1p0_1  +bnorm  leaky      | (None, 152, 152, 64)\n",
      " Load  |  Yep!  | conv 3x3p1_1  +bnorm  leaky      | (None, 152, 152, 128)\n",
      " Load  |  Yep!  | maxp 2x2p0_2                     | (None, 76, 76, 128)\n",
      " Load  |  Yep!  | conv 3x3p1_1  +bnorm  leaky      | (None, 76, 76, 256)\n",
      " Load  |  Yep!  | conv 1x1p0_1  +bnorm  leaky      | (None, 76, 76, 128)\n",
      " Load  |  Yep!  | conv 3x3p1_1  +bnorm  leaky      | (None, 76, 76, 256)\n",
      " Load  |  Yep!  | maxp 2x2p0_2                     | (None, 38, 38, 256)\n",
      " Load  |  Yep!  | conv 3x3p1_1  +bnorm  leaky      | (None, 38, 38, 512)\n",
      " Load  |  Yep!  | conv 1x1p0_1  +bnorm  leaky      | (None, 38, 38, 256)\n",
      " Load  |  Yep!  | conv 3x3p1_1  +bnorm  leaky      | (None, 38, 38, 512)\n",
      " Load  |  Yep!  | conv 1x1p0_1  +bnorm  leaky      | (None, 38, 38, 256)\n",
      " Load  |  Yep!  | conv 3x3p1_1  +bnorm  leaky      | (None, 38, 38, 512)\n",
      " Load  |  Yep!  | maxp 2x2p0_2                     | (None, 19, 19, 512)\n",
      " Load  |  Yep!  | conv 3x3p1_1  +bnorm  leaky      | (None, 19, 19, 1024)\n",
      " Load  |  Yep!  | conv 1x1p0_1  +bnorm  leaky      | (None, 19, 19, 512)\n",
      " Load  |  Yep!  | conv 3x3p1_1  +bnorm  leaky      | (None, 19, 19, 1024)\n",
      " Load  |  Yep!  | conv 1x1p0_1  +bnorm  leaky      | (None, 19, 19, 512)\n",
      " Load  |  Yep!  | conv 3x3p1_1  +bnorm  leaky      | (None, 19, 19, 1024)\n",
      " Load  |  Yep!  | conv 3x3p1_1  +bnorm  leaky      | (None, 19, 19, 1024)\n",
      " Load  |  Yep!  | conv 3x3p1_1  +bnorm  leaky      | (None, 19, 19, 1024)\n",
      " Load  |  Yep!  | concat [16]                      | (None, 38, 38, 512)\n",
      " Load  |  Yep!  | conv 1x1p0_1  +bnorm  leaky      | (None, 38, 38, 64)\n",
      " Load  |  Yep!  | local flatten 2x2                | (None, 19, 19, 256)\n",
      " Load  |  Yep!  | concat [27, 24]                  | (None, 19, 19, 1280)\n",
      " Load  |  Yep!  | conv 3x3p1_1  +bnorm  leaky      | (None, 19, 19, 1024)\n",
      " Load  |  Yep!  | conv 1x1p0_1    linear           | (None, 19, 19, 425)\n",
      "-------+--------+----------------------------------+---------------\n",
      "Running entirely on CPU\n",
      "Finished in 7.090190410614014s\n",
      "\n"
     ]
    }
   ],
   "source": [
    "import cv2\n",
    "from darkflow.net.build import TFNet\n",
    "import numpy as np\n",
    "import time\n",
    "import tensorflow as tf\n",
    "\n",
    "config = tf.compat.v1.ConfigProto(log_device_placement = True)\n",
    "config.gpu_options.allow_growth = True \n",
    "\n",
    "with tf.compat.v1.Session(config=config) as sess:\n",
    "    options = {\n",
    "            'model': './cfg/yolo.cfg',\n",
    "            'load': './weights/yolov2.weights',\n",
    "            'threshold': 0.5,   \n",
    "            'gpu' : 0.7\n",
    "    }\n",
    "    tfnet = TFNet(options)\n",
    "\n",
    "#colors = [tuple(255 * np.random.rand(3)) for _ in range(10)]\n",
    "\n",
    "capture = cv2.VideoCapture(0)\n",
    "\n",
    "while True:\n",
    "    ret, frame = capture.read()\n",
    "    \n",
    "    if ret:\n",
    "        results = tfnet.return_predict(frame)\n",
    "        image = displayResults(results, frame)\n",
    "        cv2.imshow('YOLOV2 - Object Detection', image)\n",
    "        if cv2.waitKey(1) == 13: #13 is the Enter Key\n",
    "            break\n",
    "\n",
    "capture.release()\n",
    "cv2.destroyAllWindows()\n"
   ]
  },
  {
   "cell_type": "markdown",
   "metadata": {},
   "source": [
    "### Running YOLO on a video"
   ]
  },
  {
   "cell_type": "code",
   "execution_count": null,
   "metadata": {},
   "outputs": [],
   "source": [
    "import cv2\n",
    "\n",
    "# Using OpenCV to initialize the webcam\n",
    "cap = cv2.VideoCapture('all2.mp4')\n",
    "frame_number = 0\n",
    "while True:\n",
    "    ret, frame = cap.read()\n",
    "    frame_number += 1\n",
    "    if ret:\n",
    "        img = cv2.cvtColor(frame, cv2.COLOR_BGR2RGB)\n",
    "        results = tfnet.return_predict(img)\n",
    "        \n",
    "        for (i, result) in enumerate(results):\n",
    "            x = result['topleft']['x']\n",
    "            w = result['bottomright']['x']-result['topleft']['x']\n",
    "            y = result['topleft']['y']\n",
    "            h = result['bottomright']['y']-result['topleft']['y']\n",
    "            cv2.rectangle(frame,(x,y),(x+w,y+h),(0,255,0),2)\n",
    "            label_position = (x + int(w/2)), abs(y - 10)\n",
    "            cv2.putText(frame, result['label'], label_position , cv2.FONT_HERSHEY_SIMPLEX,0.5, (255,255,255), 2)\n",
    "\n",
    "        cv2.imshow(\"Objet Detection YOLO\", frame)\n",
    "        if frame_number == 240:\n",
    "            break\n",
    "        if cv2.waitKey(1) == 13: #13 is the Enter Key\n",
    "            break\n",
    "\n",
    "cap.release()\n",
    "cv2.destroyAllWindows()"
   ]
  },
  {
   "cell_type": "markdown",
   "metadata": {},
   "source": [
    "## Install Instructions"
   ]
  },
  {
   "cell_type": "markdown",
   "metadata": {},
   "source": [
    "- git clone https://github.com/pjreddie/darknet\n",
    "- cd darknet\n",
    "- make\n",
    "- wget https://pjreddie.com/media/files/yolov2.weights\n",
    "- ./darknet detect cfg/yolov2.cfg yolov2.weights data/dog.jpg\n",
    "\n",
    "- cd\n",
    "- pip install Cython\n",
    "- git clone https://github.com/thtrieu/darkflow.git\n",
    "- cd darkflow\n",
    "- pip install .\n",
    "- cd bin\n",
    "- wget https://pjreddie.com/media/files/yolov2.weights\n",
    "- cd \n",
    "- cd darkflow/cfg\n"
   ]
  },
  {
   "cell_type": "code",
   "execution_count": 2,
   "metadata": {},
   "outputs": [],
   "source": [
    "capture.release()\n",
    "cv2.destroyAllWindows()"
   ]
  },
  {
   "cell_type": "markdown",
   "metadata": {},
   "source": [
    "### Loading our Trained Custom Dataset Model"
   ]
  },
  {
   "cell_type": "code",
   "execution_count": 1,
   "metadata": {},
   "outputs": [
    {
     "name": "stdout",
     "output_type": "stream",
     "text": [
      "Parsing ./cfg/yolo_1_class.cfg\n",
      "Loading None ...\n",
      "Finished in 0.00011992454528808594s\n",
      "\n",
      "Building net ...\n",
      "Source | Train? | Layer description                | Output size\n",
      "-------+--------+----------------------------------+---------------\n",
      "       |        | input                            | (?, 288, 288, 3)\n",
      " Init  |  Yep!  | conv 3x3p1_1  +bnorm  leaky      | (?, 288, 288, 32)\n",
      " Load  |  Yep!  | maxp 2x2p0_2                     | (?, 144, 144, 32)\n",
      " Init  |  Yep!  | conv 3x3p1_1  +bnorm  leaky      | (?, 144, 144, 64)\n",
      " Load  |  Yep!  | maxp 2x2p0_2                     | (?, 72, 72, 64)\n",
      " Init  |  Yep!  | conv 3x3p1_1  +bnorm  leaky      | (?, 72, 72, 128)\n",
      " Init  |  Yep!  | conv 1x1p0_1  +bnorm  leaky      | (?, 72, 72, 64)\n",
      " Init  |  Yep!  | conv 3x3p1_1  +bnorm  leaky      | (?, 72, 72, 128)\n",
      " Load  |  Yep!  | maxp 2x2p0_2                     | (?, 36, 36, 128)\n",
      " Init  |  Yep!  | conv 3x3p1_1  +bnorm  leaky      | (?, 36, 36, 256)\n",
      " Init  |  Yep!  | conv 1x1p0_1  +bnorm  leaky      | (?, 36, 36, 128)\n",
      " Init  |  Yep!  | conv 3x3p1_1  +bnorm  leaky      | (?, 36, 36, 256)\n",
      " Load  |  Yep!  | maxp 2x2p0_2                     | (?, 18, 18, 256)\n",
      " Init  |  Yep!  | conv 3x3p1_1  +bnorm  leaky      | (?, 18, 18, 512)\n",
      " Init  |  Yep!  | conv 1x1p0_1  +bnorm  leaky      | (?, 18, 18, 256)\n",
      " Init  |  Yep!  | conv 3x3p1_1  +bnorm  leaky      | (?, 18, 18, 512)\n",
      " Init  |  Yep!  | conv 1x1p0_1  +bnorm  leaky      | (?, 18, 18, 256)\n",
      " Init  |  Yep!  | conv 3x3p1_1  +bnorm  leaky      | (?, 18, 18, 512)\n",
      " Load  |  Yep!  | maxp 2x2p0_2                     | (?, 9, 9, 512)\n",
      " Init  |  Yep!  | conv 3x3p1_1  +bnorm  leaky      | (?, 9, 9, 1024)\n",
      " Init  |  Yep!  | conv 1x1p0_1  +bnorm  leaky      | (?, 9, 9, 512)\n",
      " Init  |  Yep!  | conv 3x3p1_1  +bnorm  leaky      | (?, 9, 9, 1024)\n",
      " Init  |  Yep!  | conv 1x1p0_1  +bnorm  leaky      | (?, 9, 9, 512)\n",
      " Init  |  Yep!  | conv 3x3p1_1  +bnorm  leaky      | (?, 9, 9, 1024)\n",
      " Init  |  Yep!  | conv 3x3p1_1  +bnorm  leaky      | (?, 9, 9, 1024)\n",
      " Init  |  Yep!  | conv 3x3p1_1  +bnorm  leaky      | (?, 9, 9, 1024)\n",
      " Load  |  Yep!  | concat [16]                      | (?, 18, 18, 512)\n",
      " Init  |  Yep!  | conv 1x1p0_1  +bnorm  leaky      | (?, 18, 18, 64)\n",
      " Load  |  Yep!  | local flatten 2x2                | (?, 9, 9, 256)\n",
      " Load  |  Yep!  | concat [27, 24]                  | (?, 9, 9, 1280)\n",
      " Init  |  Yep!  | conv 3x3p1_1  +bnorm  leaky      | (?, 9, 9, 1024)\n",
      " Init  |  Yep!  | conv 1x1p0_1    linear           | (?, 9, 9, 30)\n",
      "-------+--------+----------------------------------+---------------\n",
      "Running entirely on CPU\n",
      "Loading from ./ckpt/yolo_1_class-400\n",
      "INFO:tensorflow:Restoring parameters from ./ckpt/yolo_1_class-400\n",
      "Finished in 9.00849175453186s\n",
      "\n"
     ]
    }
   ],
   "source": [
    "from darkflow.net.build import TFNet\n",
    "import cv2\n",
    "import tensorflow as tf\n",
    "\n",
    "# Config TF, set True if using GPU\n",
    "config = tf.ConfigProto(log_device_placement = False)\n",
    "config.gpu_options.allow_growth = False \n",
    "\n",
    "with tf.Session(config=config) as sess:\n",
    "    options = {\n",
    "            'model': './cfg/yolo_1_class.cfg',\n",
    "            'load': 400, #This is # of steps/epochs used in training, it tells it load the last saved model\n",
    "            'threshold': 0.45, \n",
    "            #'gpu': 1.0 # uncomment these if using GPU\n",
    "               }\n",
    "    tfnet = TFNet(options)    "
   ]
  },
  {
   "cell_type": "markdown",
   "metadata": {},
   "source": [
    "### Let's test our new Object Detector!"
   ]
  },
  {
   "cell_type": "code",
   "execution_count": 5,
   "metadata": {},
   "outputs": [],
   "source": [
    "# We're going to cycle through 10 images \n",
    "\n",
    "for i in range(1,12):\n",
    "    file_name = './sample_img/sample_london_' + str(i) + '.jpg'\n",
    "    img = cv2.imread(file_name)\n",
    "    img = cv2.cvtColor(img, cv2.COLOR_BGR2RGB)\n",
    "    results = tfnet.return_predict(img)\n",
    "    img = cv2.cvtColor(img, cv2.COLOR_RGB2BGR)\n",
    "    for (i, result) in enumerate(results):\n",
    "        x = result['topleft']['x']\n",
    "        w = result['bottomright']['x']-result['topleft']['x']\n",
    "        y = result['topleft']['y']\n",
    "        h = result['bottomright']['y']-result['topleft']['y']\n",
    "        cv2.rectangle(img,(x,y),(x+w,y+h),(0,255,0),2)\n",
    "        label_position = (x + int(w/2)), abs(y - 10)\n",
    "        cv2.putText(img, result['label'], label_position , cv2.FONT_HERSHEY_SIMPLEX,0.5, (0,255,0), 2)\n",
    "\n",
    "    cv2.imshow(\"Objet Detection YOLO\", img)\n",
    "    cv2.waitKey(0)\n",
    "cv2.destroyAllWindows()"
   ]
  },
  {
   "cell_type": "markdown",
   "metadata": {},
   "source": [
    "### Let's test this on a video"
   ]
  },
  {
   "cell_type": "code",
   "execution_count": 10,
   "metadata": {},
   "outputs": [],
   "source": [
    "import cv2\n",
    "\n",
    "# Using OpenCV to initialize the webcam\n",
    "cap = cv2.VideoCapture('tube.mp4')\n",
    "frame_number = 0\n",
    "while True:\n",
    "    ret, frame = cap.read()\n",
    "    frame_number += 1\n",
    "    if ret:\n",
    "        img = cv2.cvtColor(frame, cv2.COLOR_BGR2RGB)\n",
    "        results = tfnet.return_predict(img)\n",
    "        \n",
    "        for (i, result) in enumerate(results):\n",
    "            x = result['topleft']['x']\n",
    "            w = result['bottomright']['x']-result['topleft']['x']\n",
    "            y = result['topleft']['y']\n",
    "            h = result['bottomright']['y']-result['topleft']['y']\n",
    "            cv2.rectangle(frame,(x,y),(x+w,y+h),(0,255,0),2)\n",
    "            label_position = (x + int(w/2)), abs(y - 10)\n",
    "            cv2.putText(frame, result['label'], label_position , cv2.FONT_HERSHEY_SIMPLEX,1, (255,0,0), 3)\n",
    "\n",
    "        cv2.imshow(\"Objet Detection YOLO\", frame)\n",
    "        if frame_number == 240:\n",
    "            break\n",
    "        if cv2.waitKey(1) == 13: #13 is the Enter Key\n",
    "            break\n",
    "\n",
    "cap.release()\n",
    "cv2.destroyAllWindows()"
   ]
  },
  {
   "cell_type": "code",
   "execution_count": null,
   "metadata": {},
   "outputs": [],
   "source": []
  }
 ],
 "metadata": {
  "kernelspec": {
   "display_name": "Python 3",
   "language": "python",
   "name": "python3"
  },
  "language_info": {
   "codemirror_mode": {
    "name": "ipython",
    "version": 3
   },
   "file_extension": ".py",
   "mimetype": "text/x-python",
   "name": "python",
   "nbconvert_exporter": "python",
   "pygments_lexer": "ipython3",
   "version": "3.7.5"
  }
 },
 "nbformat": 4,
 "nbformat_minor": 2
}
